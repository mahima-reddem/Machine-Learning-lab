{
 "cells": [
  {
   "cell_type": "code",
   "execution_count": 1,
   "metadata": {},
   "outputs": [
    {
     "name": "stdout",
     "output_type": "stream",
     "text": [
      "Collecting db-sqlite3\n",
      "  Downloading https://files.pythonhosted.org/packages/ff/00/e1f3d7bf1e0bff7c0574c0d5535c041e139d4ce43db196147e4c62f52ed5/db-sqlite3-0.0.1.tar.gz\n",
      "Collecting db (from db-sqlite3)\n",
      "  Downloading https://files.pythonhosted.org/packages/a9/22/f65d64c83e63790b3273c6adb3bff338ad594f46d84b41bd1f94593b40a6/db-0.1.1.tar.gz\n",
      "Collecting antiorm (from db->db-sqlite3)\n",
      "  Downloading https://files.pythonhosted.org/packages/0b/f8/71baa4824d9666c1be51d117119579a97f461ddbded48b2e01a6ad0554b5/antiorm-1.2.1.tar.gz (171kB)\n",
      "Building wheels for collected packages: db-sqlite3, db, antiorm\n",
      "  Building wheel for db-sqlite3 (setup.py): started\n",
      "  Building wheel for db-sqlite3 (setup.py): finished with status 'done'\n",
      "  Created wheel for db-sqlite3: filename=db_sqlite3-0.0.1-cp37-none-any.whl size=1802 sha256=1fd89416cca94cd788f2f42b2f94dfda8a860b0549ef105d92855ae6af44edd6\n",
      "  Stored in directory: C:\\Users\\Mahima Reddem\\AppData\\Local\\pip\\Cache\\wheels\\e0\\f8\\cb\\08e3a3a63bdea9ac3a0cccd140636b6cf94e3fb7df1070b12e\n",
      "  Building wheel for db (setup.py): started\n",
      "  Building wheel for db (setup.py): finished with status 'done'\n",
      "  Created wheel for db: filename=db-0.1.1-cp37-none-any.whl size=3900 sha256=25387cc5a6558abc57ae04342f3ae5e5d8f611a766d5a4264abd309b33931c15\n",
      "  Stored in directory: C:\\Users\\Mahima Reddem\\AppData\\Local\\pip\\Cache\\wheels\\30\\eb\\ba\\237fa002d1d1b2e73cedcefd26a9db37c4b72c7e5156ea0501\n",
      "  Building wheel for antiorm (setup.py): started\n",
      "  Building wheel for antiorm (setup.py): finished with status 'done'\n",
      "  Created wheel for antiorm: filename=antiorm-1.2.1-cp37-none-any.whl size=31674 sha256=645a9a2898643f45e5ae376e5ca6666de61ca5ba0bb4ca00eba3f28ee0250d3f\n",
      "  Stored in directory: C:\\Users\\Mahima Reddem\\AppData\\Local\\pip\\Cache\\wheels\\b0\\91\\4d\\f8fe808786ff1cda9e7e99e1b1bbda9196ab26786017965313\n",
      "Successfully built db-sqlite3 db antiorm\n",
      "Installing collected packages: antiorm, db, db-sqlite3\n",
      "Successfully installed antiorm-1.2.1 db-0.1.1 db-sqlite3-0.0.1\n"
     ]
    }
   ],
   "source": [
    "!pip install db-sqlite3"
   ]
  },
  {
   "cell_type": "code",
   "execution_count": 2,
   "metadata": {},
   "outputs": [],
   "source": [
    "import sqlite3"
   ]
  },
  {
   "cell_type": "code",
   "execution_count": 3,
   "metadata": {},
   "outputs": [
    {
     "name": "stdout",
     "output_type": "stream",
     "text": [
      "Database opened successfully\n"
     ]
    }
   ],
   "source": [
    "conn = sqlite3.connect(\"test.db\")\n",
    "cur=conn.cursor()\n",
    "print(\"Database opened successfully\")"
   ]
  },
  {
   "cell_type": "code",
   "execution_count": 4,
   "metadata": {},
   "outputs": [
    {
     "name": "stdout",
     "output_type": "stream",
     "text": [
      "Table created successfully\n"
     ]
    }
   ],
   "source": [
    "conn.execute('''CREATE TABLE COMPANY\n",
    "(ID INT PRIMARY KEY    NOT NULL,\n",
    "NAME            TEXT   NOT NULL,\n",
    "AGE              INT   NOT NULL,\n",
    "ADDRESS         CHAR(50),\n",
    "SALARY          REAL);''')\n",
    "print(\"Table created successfully\")"
   ]
  },
  {
   "cell_type": "code",
   "execution_count": 5,
   "metadata": {},
   "outputs": [
    {
     "name": "stdout",
     "output_type": "stream",
     "text": [
      "Records created successfully\n"
     ]
    }
   ],
   "source": [
    "conn.execute(\"INSERT INTO COMPANY (ID,NAME,AGE,ADDRESS,SALARY) \\\n",
    "            VALUES (1, 'Paul', 32, 'California', 20000.00)\");\n",
    "conn.execute(\"INSERT INTO COMPANY (ID,NAME,AGE,ADDRESS,SALARY) \\\n",
    "            VALUES (2, 'Allen', 24, 'Texas', 30000.00)\");\n",
    "conn.execute(\"INSERT INTO COMPANY (ID,NAME,AGE,ADDRESS,SALARY) \\\n",
    "            VALUES (3, 'Mark', 29, 'Rich-Mond', 40000.00)\");\n",
    "conn.execute(\"INSERT INTO COMPANY (ID,NAME,AGE,ADDRESS,SALARY) \\\n",
    "            VALUES (4, 'Teddy', 28, 'Norway', 55000.00)\");\n",
    "conn.commit()\n",
    "print(\"Records created successfully\")"
   ]
  },
  {
   "cell_type": "code",
   "execution_count": 6,
   "metadata": {},
   "outputs": [
    {
     "name": "stdout",
     "output_type": "stream",
     "text": [
      "(1, 'Paul', 32, 'California', 20000.0)\n",
      "(2, 'Allen', 24, 'Texas', 30000.0)\n",
      "(3, 'Mark', 29, 'Rich-Mond', 40000.0)\n",
      "(4, 'Teddy', 28, 'Norway', 55000.0)\n"
     ]
    }
   ],
   "source": [
    "for row in conn.execute('select * from COMPANY'):\n",
    "    print(row)"
   ]
  },
  {
   "cell_type": "code",
   "execution_count": 7,
   "metadata": {},
   "outputs": [],
   "source": [
    "conn.commit()"
   ]
  },
  {
   "cell_type": "code",
   "execution_count": 8,
   "metadata": {},
   "outputs": [],
   "source": [
    "conn.close()"
   ]
  },
  {
   "cell_type": "code",
   "execution_count": null,
   "metadata": {},
   "outputs": [],
   "source": []
  }
 ],
 "metadata": {
  "kernelspec": {
   "display_name": "Python 3",
   "language": "python",
   "name": "python3"
  },
  "language_info": {
   "codemirror_mode": {
    "name": "ipython",
    "version": 3
   },
   "file_extension": ".py",
   "mimetype": "text/x-python",
   "name": "python",
   "nbconvert_exporter": "python",
   "pygments_lexer": "ipython3",
   "version": "3.7.4"
  }
 },
 "nbformat": 4,
 "nbformat_minor": 2
}
